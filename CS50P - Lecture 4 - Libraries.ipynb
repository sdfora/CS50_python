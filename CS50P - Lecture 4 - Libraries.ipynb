{
 "cells": [
  {
   "cell_type": "markdown",
   "metadata": {},
   "source": [
    "##  CS50P - Lecture 4 - Libraries\n",
    "JAN 29 2023"
   ]
  },
  {
   "cell_type": "code",
   "execution_count": null,
   "metadata": {},
   "outputs": [],
   "source": [
    "# these 2 are the same, they all looks good if you have a good reason"
   ]
  },
  {
   "cell_type": "code",
   "execution_count": null,
   "metadata": {},
   "outputs": [],
   "source": [
    "# 1 import all function from random module\n",
    "# can trace the module\n",
    "\n",
    "import random  \n",
    "\n",
    "coin = random.choice([\"heads\", \"tails\"])\n",
    "print(coin)"
   ]
  },
  {
   "cell_type": "code",
   "execution_count": null,
   "metadata": {},
   "outputs": [],
   "source": [
    "\n",
    "# 2 import choice alone from random module\n",
    "# can save resources and make code run faster\n",
    "from random import choice\n",
    "coin = choice([\"heads\", \"tails\"])\n",
    "print(coin)"
   ]
  },
  {
   "attachments": {},
   "cell_type": "markdown",
   "metadata": {},
   "source": [
    "### MODULE - Random\n",
    "https://docs.python.org/3/library/random.html"
   ]
  },
  {
   "cell_type": "code",
   "execution_count": null,
   "metadata": {},
   "outputs": [],
   "source": [
    "# random.randint(1, 10)\n",
    "# random.choice([\"heads\", \"tails\"])\n",
    "# random.shuffle(seq) inplace "
   ]
  },
  {
   "attachments": {},
   "cell_type": "markdown",
   "metadata": {},
   "source": [
    "### MODULE - Statistics\n",
    "https://docs.python.org/3/library/statistics.html"
   ]
  },
  {
   "attachments": {},
   "cell_type": "markdown",
   "metadata": {},
   "source": [
    "### MODULE - Sys - Command-Line Arguments\n",
    "https://docs.python.org/3/library/sys.html"
   ]
  },
  {
   "cell_type": "code",
   "execution_count": 7,
   "metadata": {},
   "outputs": [
    {
     "name": "stdout",
     "output_type": "stream",
     "text": [
      "<class 'list'>\n"
     ]
    }
   ],
   "source": [
    "import sys\n",
    "print(type(sys.argv))"
   ]
  },
  {
   "cell_type": "code",
   "execution_count": null,
   "metadata": {},
   "outputs": [],
   "source": [
    "if len(sys.argv) < 2: # one arg, which is file name, such as main.py\n",
    "    print(sys.argv[0])\n",
    "    sys.exit(\"Too few arguments\")\n",
    "elif len(sys.argv) > 2: # more arg\n",
    "    sys.exit(\"Too many arguments\")\n",
    "\n",
    "print(\"hello, my name is\", sys.argv[1])  # user's input\n",
    "\n",
    "# sys.argv   type is list\n",
    "# sys.argv[0] is file_name\n",
    "# sys.argv[1] is user input\n",
    "\n",
    "# sys.exit(\"\") exit the running code\n",
    "\n",
    "# reason for use sys.argv is specific for programme\n",
    "# - get input more quick\n",
    "# - improve productivity\n"
   ]
  },
  {
   "cell_type": "code",
   "execution_count": null,
   "metadata": {},
   "outputs": [],
   "source": [
    "# use \" \" can take the input as one item\n",
    "# in terminal:\n",
    "#             $ python file.py \"xx xx\""
   ]
  },
  {
   "attachments": {},
   "cell_type": "markdown",
   "metadata": {},
   "source": [
    "### Packages\n",
    "https://pypi.org/"
   ]
  },
  {
   "cell_type": "code",
   "execution_count": null,
   "metadata": {},
   "outputs": [],
   "source": [
    "#pip install package"
   ]
  },
  {
   "cell_type": "markdown",
   "metadata": {},
   "source": [
    "### APIs"
   ]
  },
  {
   "cell_type": "code",
   "execution_count": 6,
   "metadata": {},
   "outputs": [
    {
     "name": "stdout",
     "output_type": "stream",
     "text": [
      "See You Again (feat. Charlie Puth)\n",
      "See You Again (feat. Charlie Puth)\n",
      "I Hope (feat. Charlie Puth)\n",
      "I Hope (feat. Charlie Puth)\n",
      "Sober (feat. Charlie Puth)\n"
     ]
    }
   ],
   "source": [
    "import requests\n",
    "\n",
    "response = requests.get(\"https://itunes.apple.com/search?entity=song&limit=5&term=\" + \"Charlie Puth\")\n",
    "o = response.json()\n",
    "for result in o[\"results\"]:\n",
    "    print(result[\"trackName\"])"
   ]
  },
  {
   "cell_type": "code",
   "execution_count": null,
   "metadata": {},
   "outputs": [],
   "source": [
    "# json.dumps() to make the output more readable\n",
    "import json\n",
    "print(json.dumps(response.json(), indent=2))"
   ]
  },
  {
   "cell_type": "markdown",
   "metadata": {},
   "source": [
    "### About __name__ == \"__main__\""
   ]
  },
  {
   "cell_type": "code",
   "execution_count": null,
   "metadata": {},
   "outputs": [],
   "source": [
    "import module\n",
    "\n",
    "if __name__ == \"__main__\":\n",
    "    print(\"Run directly\")\n",
    "else:\n",
    "    print(\"Run by imported module\")\n",
    "\n",
    "# __name__ is a variable to store the module\n",
    "# if the module is current running, __name__ ==  \"__main__\""
   ]
  },
  {
   "attachments": {},
   "cell_type": "markdown",
   "metadata": {},
   "source": [
    "## STYLE"
   ]
  },
  {
   "cell_type": "code",
   "execution_count": null,
   "metadata": {},
   "outputs": [],
   "source": [
    "# try install pycodestyle\n",
    "# try install black\n",
    "# in terminal: black main.py"
   ]
  }
 ],
 "metadata": {
  "kernelspec": {
   "display_name": "Python 3",
   "language": "python",
   "name": "python3"
  },
  "language_info": {
   "codemirror_mode": {
    "name": "ipython",
    "version": 3
   },
   "file_extension": ".py",
   "mimetype": "text/x-python",
   "name": "python",
   "nbconvert_exporter": "python",
   "pygments_lexer": "ipython3",
   "version": "3.10.8"
  },
  "orig_nbformat": 4,
  "vscode": {
   "interpreter": {
    "hash": "aee8b7b246df8f9039afb4144a1f6fd8d2ca17a180786b69acc140d282b71a49"
   }
  }
 },
 "nbformat": 4,
 "nbformat_minor": 2
}
