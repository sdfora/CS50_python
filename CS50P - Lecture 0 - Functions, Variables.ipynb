{
 "cells": [
  {
   "attachments": {},
   "cell_type": "markdown",
   "metadata": {},
   "source": [
    "## CS50P - Lecture 0 - Functions, Variables \n",
    "JAN 24 2023"
   ]
  },
  {
   "cell_type": "markdown",
   "metadata": {},
   "source": [
    "### FUNCTION"
   ]
  },
  {
   "attachments": {},
   "cell_type": "markdown",
   "metadata": {},
   "source": [
    "function(arguement), [  ] means optional, * means any number\n",
    "\n",
    "comment # or \"\"\" \"\"\"\n",
    "- remind yourself\n",
    "- TODO\n",
    "\n",
    "format string is f string"
   ]
  },
  {
   "cell_type": "code",
   "execution_count": 1,
   "metadata": {},
   "outputs": [
    {
     "name": "stdout",
     "output_type": "stream",
     "text": [
      "Hello, Shin\n"
     ]
    }
   ],
   "source": [
    "# multiple arguement in print function will automatically add space between \n",
    "name = \"Shin\"\n",
    "print(\"Hello,\", name)"
   ]
  },
  {
   "cell_type": "code",
   "execution_count": 5,
   "metadata": {},
   "outputs": [],
   "source": [
    "# print(*objects, sep=' ', end='\\n', file=None, flush=False)¶\n",
    "# default sep is space, end is new line\n",
    "# from https://docs.python.org/3/library/functions.html#print\n",
    "name1 = \"Shin\"\n",
    "name2 = \"S\""
   ]
  },
  {
   "cell_type": "code",
   "execution_count": 6,
   "metadata": {},
   "outputs": [
    {
     "name": "stdout",
     "output_type": "stream",
     "text": [
      "Shin:S\n"
     ]
    }
   ],
   "source": [
    "# try change the sep to \":\"\n",
    "print(name1, name2, sep=\":\")"
   ]
  },
  {
   "cell_type": "code",
   "execution_count": 7,
   "metadata": {},
   "outputs": [
    {
     "name": "stdout",
     "output_type": "stream",
     "text": [
      "Shin S\n"
     ]
    }
   ],
   "source": [
    "# try change the end to \" \"\n",
    "print(name1, end=\" \")\n",
    "print(name2)"
   ]
  },
  {
   "cell_type": "code",
   "execution_count": 8,
   "metadata": {},
   "outputs": [
    {
     "name": "stdout",
     "output_type": "stream",
     "text": [
      "Hello, \"Shin\"\n"
     ]
    }
   ],
   "source": [
    "#\\ as an escape character   \\\"(Shin)\\\"\n",
    "print(\"Hello, \\\"Shin\\\"\")"
   ]
  },
  {
   "attachments": {},
   "cell_type": "markdown",
   "metadata": {},
   "source": [
    "### STRING METHOD"
   ]
  },
  {
   "cell_type": "code",
   "execution_count": 11,
   "metadata": {},
   "outputs": [
    {
     "name": "stdout",
     "output_type": "stream",
     "text": [
      "Hi, Shin Wang.\n"
     ]
    }
   ],
   "source": [
    "# string.strip() for remove space before and after\n",
    "# string.title() for capitalize the first character\n",
    "name = input(\"What is your name? \").strip().title()\n",
    "print(f\"Hi, {name}\")"
   ]
  },
  {
   "cell_type": "code",
   "execution_count": 12,
   "metadata": {},
   "outputs": [
    {
     "name": "stdout",
     "output_type": "stream",
     "text": [
      "Hi, Shin\n"
     ]
    }
   ],
   "source": [
    "# split user's input into first name and last name\n",
    "first, last = name.split(\" \")\n",
    "print(f\"Hi, {first}\")"
   ]
  },
  {
   "attachments": {},
   "cell_type": "markdown",
   "metadata": {},
   "source": [
    "### F STRING"
   ]
  },
  {
   "cell_type": "code",
   "execution_count": 13,
   "metadata": {},
   "outputs": [
    {
     "name": "stdout",
     "output_type": "stream",
     "text": [
      "100,000\n"
     ]
    }
   ],
   "source": [
    "# f string for seperate 000, use :,\n",
    "x = 100000\n",
    "print(f\"{x:,}\")"
   ]
  },
  {
   "cell_type": "code",
   "execution_count": 15,
   "metadata": {},
   "outputs": [
    {
     "name": "stdout",
     "output_type": "stream",
     "text": [
      "0.67\n"
     ]
    }
   ],
   "source": [
    "# f srting for specific decimal, use :.nf\n",
    "x = 2/3\n",
    "print(f\"{x:.2f}\")"
   ]
  },
  {
   "attachments": {},
   "cell_type": "markdown",
   "metadata": {},
   "source": [
    "### DEF YOUR OWN FUNCTION"
   ]
  },
  {
   "cell_type": "code",
   "execution_count": 18,
   "metadata": {},
   "outputs": [
    {
     "name": "stdout",
     "output_type": "stream",
     "text": [
      "Hello, World\n",
      "Hello, Shin\n"
     ]
    }
   ],
   "source": [
    "# set default value for your function\n",
    "def hello(name=\"World\"):\n",
    "    print(\"Hello,\", name)\n",
    "\n",
    "hello() #default\n",
    "hello(\"Shin\") #with parameter"
   ]
  },
  {
   "cell_type": "code",
   "execution_count": 19,
   "metadata": {},
   "outputs": [
    {
     "name": "stdout",
     "output_type": "stream",
     "text": [
      "Hello, World\n"
     ]
    }
   ],
   "source": [
    "# try use main()\n",
    "def main():\n",
    "    hello()\n",
    "\n",
    "main()"
   ]
  },
  {
   "cell_type": "code",
   "execution_count": null,
   "metadata": {},
   "outputs": [],
   "source": [
    "# function's scope, variable only in function\n",
    "# function means to avoid repeat"
   ]
  },
  {
   "cell_type": "code",
   "execution_count": null,
   "metadata": {},
   "outputs": [],
   "source": [
    "# python have interactive mode, one of its feature\n",
    "# 1 for readibility, 2 for simplicity"
   ]
  },
  {
   "cell_type": "code",
   "execution_count": null,
   "metadata": {},
   "outputs": [],
   "source": []
  }
 ],
 "metadata": {
  "kernelspec": {
   "display_name": "Python 3",
   "language": "python",
   "name": "python3"
  },
  "language_info": {
   "codemirror_mode": {
    "name": "ipython",
    "version": 3
   },
   "file_extension": ".py",
   "mimetype": "text/x-python",
   "name": "python",
   "nbconvert_exporter": "python",
   "pygments_lexer": "ipython3",
   "version": "3.10.8"
  },
  "orig_nbformat": 4,
  "vscode": {
   "interpreter": {
    "hash": "aee8b7b246df8f9039afb4144a1f6fd8d2ca17a180786b69acc140d282b71a49"
   }
  }
 },
 "nbformat": 4,
 "nbformat_minor": 2
}
